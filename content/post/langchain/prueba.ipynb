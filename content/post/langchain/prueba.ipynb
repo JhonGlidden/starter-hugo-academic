{
 "cells": [
  {
   "cell_type": "markdown",
   "metadata": {},
   "source": [
    "---\n",
    "title: Large Language Model (LLM) con LangChain\n",
    "subtitle: \n",
    "summary: Como entrenar tu LLm con Langchain\n",
    "authors:\n",
    "- admin\n",
    "tags: []\n",
    "categories: []\n",
    "date: \"2023-02-05T00:00:00Z\"\n",
    "lastMod: \"2023-09-05T00:00:00Z\"\n",
    "featured: false\n",
    "draft: false\n",
    "\n",
    "# Featured image\n",
    "# To use, add an image named `featured.jpg/png` to your page's folder. \n",
    "image:\n",
    "  caption: \"\"\n",
    "  focal_point: \"\"\n",
    "\n",
    "# Projects (optional).\n",
    "#   Associate this post with one or more of your projects.\n",
    "#   Simply enter your project's folder or file name without extension.\n",
    "#   E.g. `projects = [\"internal-project\"]` references \n",
    "#   `content/project/deep-learning/index.md`.\n",
    "#   Otherwise, set `projects = []`.\n",
    "projects: []\n",
    "---"
   ]
  },
  {
   "cell_type": "markdown",
   "metadata": {},
   "source": [
    "# Implementación de un Large Language Model con Langchain\n",
    "\n",
    "El proyecto completo con sus dependencias se encuentra en https://github.com/JhonGlidden/Langchain \n",
    "\n",
    "## Introducción\n",
    "El avance de la inteligencia artificial y el aprendizaje profundo ha llevado a la creación de modelos de lenguaje altamente sofisticados y capaces. En este proyecto, buscamos aprovechar estos avances para entrenar un Large Language Model (LLM) utilizando la API de OpenAI y el innovador framework Langchain.\n",
    "\n",
    "## Objetivo\n",
    "El propósito principal de este proyecto es desarrollar un modelo que pueda interactuar y responder preguntas sobre un documento de Word específico. El modelo se entrenará utilizando un conjunto de datos detallado y luego se utilizará para realizar varias consultas, brindando respuestas precisas y contextuales sobre el contenido del documento.\n",
    "\n",
    "## Conjunto de Datos\n",
    "Para la implementación de este proyecto, hemos seleccionado un conjunto de datos intrigante y relevante disponible en Kaggle. Este conjunto de datos, que se puede encontrar aquí, contiene una colección de reseñas de un restaurante. La información encapsula las experiencias y opiniones de los clientes sobre el restaurante, lo que nos permite un análisis profundo y una amplia gama de preguntas posibles para entrenar y probar nuestro modelo. https://www.kaggle.com/datasets/d4rklucif3r/restaurant-reviews\n",
    "\n",
    "## Metodología\n",
    "### Entrenamiento\n",
    "Utilizaremos la API de OpenAI para acceder a un modelo de lenguaje de última generación y el framework Langchain para estructurar y gestionar el proceso de entrenamiento. El documento de Word seleccionado se procesará y se convertirá en un formato que el modelo pueda entender y aprender.\n",
    "\n",
    "### Consultas y Evaluación\n",
    "Una vez entrenado, el modelo será capaz de responder preguntas específicas sobre el contenido del documento. Esto incluirá no solo la comprensión literal del texto, sino también la interpretación y el análisis de la información subyacente. La eficacia del modelo se evaluará mediante una serie de pruebas y métricas, garantizando que las respuestas sean precisas y coherentes con el contenido original.\n",
    "\n",
    "### Conclusión\n",
    "Este proyecto representa una emocionante oportunidad para explorar las capacidades de los modernos modelos de lenguaje y su aplicación en la comprensión y análisis de documentos de texto. Mediante la combinación de la API de OpenAI y el framework Langchain, buscamos crear una herramienta que pueda transformar la forma en que interactuamos y entendemos la información escrita, y al mismo tiempo, ofrecer una visión única de las opiniones y experiencias de los clientes en un contexto de restaurante. La implementación exitosa de este proyecto podría abrir puertas a futuras investigaciones y aplicaciones en el campo del procesamiento del lenguaje natural y la inteligencia artificial.\n"
   ]
  },
  {
   "cell_type": "markdown",
   "metadata": {},
   "source": [
    "# Codificación"
   ]
  },
  {
   "cell_type": "markdown",
   "metadata": {},
   "source": [
    "## Librerias"
   ]
  },
  {
   "cell_type": "code",
   "execution_count": 40,
   "metadata": {},
   "outputs": [],
   "source": [
    "from langchain.schema import Document\n",
    "from langchain.document_loaders import Docx2txtLoader\n",
    "from langchain.text_splitter import RecursiveCharacterTextSplitter\n",
    "import os\n",
    "from getpass import getpass\n",
    "from langchain.embeddings import OpenAIEmbeddings\n",
    "from langchain.vectorstores import Chroma\n",
    "import logging\n",
    "\n",
    "from langchain.chat_models import ChatOpenAI\n",
    "from langchain.retrievers.multi_query import MultiQueryRetriever\n",
    "import logging\n"
   ]
  },
  {
   "cell_type": "markdown",
   "metadata": {},
   "source": [
    "## Carga de los datos"
   ]
  },
  {
   "cell_type": "code",
   "execution_count": 2,
   "metadata": {},
   "outputs": [],
   "source": [
    "loader = Docx2txtLoader(\"./ReviewRestaurants.docx\") # cargamos de forma que el archivo de word (puede cargar otro archivo)"
   ]
  },
  {
   "cell_type": "code",
   "execution_count": 3,
   "metadata": {},
   "outputs": [],
   "source": [
    "data = loader.load()"
   ]
  },
  {
   "cell_type": "code",
   "execution_count": 4,
   "metadata": {},
   "outputs": [
    {
     "data": {
      "text/plain": [
       "'Review\\tLiked\\n\\nWow... Loved this place.\\t1\\n\\nCrust is not good.\\t0\\n\\nNot tasty and the texture was just nasty.\\t0\\n\\nStopped by during the late May bank holiday off Rick Steve recommendation and loved it.\\t1\\n\\nThe selection on the menu was great and so were the prices.\\t1\\n\\nNow I am getting angry and I want my '"
      ]
     },
     "execution_count": 4,
     "metadata": {},
     "output_type": "execute_result"
    }
   ],
   "source": [
    "data[0].page_content[:300]"
   ]
  },
  {
   "cell_type": "code",
   "execution_count": 5,
   "metadata": {},
   "outputs": [
    {
     "data": {
      "text/plain": [
       "list"
      ]
     },
     "execution_count": 5,
     "metadata": {},
     "output_type": "execute_result"
    }
   ],
   "source": [
    "type(data)"
   ]
  },
  {
   "cell_type": "code",
   "execution_count": 8,
   "metadata": {},
   "outputs": [
    {
     "data": {
      "text/plain": [
       "{'source': './ReviewRestaurants.docx'}"
      ]
     },
     "execution_count": 8,
     "metadata": {},
     "output_type": "execute_result"
    }
   ],
   "source": [
    "data[0].metadata"
   ]
  },
  {
   "cell_type": "code",
   "execution_count": 9,
   "metadata": {},
   "outputs": [
    {
     "data": {
      "text/plain": [
       "'Review\\tLiked\\n\\nWow... Loved this place.\\t1\\n\\nCrust is not good.\\t0\\n\\nNot tasty and the texture was just nasty.\\t0\\n\\nStopped by during the late May bank holiday off Rick Steve recommendation and loved it.\\t1\\n\\nThe selection on the menu was great and so were the prices.\\t1\\n\\nNow I am getting angry and I want my damn pho.\\t0\\n\\nHoneslty it didn\\'t taste THAT fresh.)\\t0\\n\\nThe potatoes were like rubber and you could tell they had been made up ahead of time being kept under a warmer.\\t0\\n\\nThe fries were great too.\\t1\\n\\nA great touch.\\t1\\n\\nService was very prompt.\\t1\\n\\nWould not go back.\\t0\\n\\nThe cashier had no care what so ever on what I had to say it still ended up being wayyy overpriced.\\t0\\n\\nI tried the Cape Cod ravoli, chicken, with cranberry...mmmm!\\t1\\n\\nI was disgusted because I was pretty sure that was human hair.\\t0\\n\\nI was shocked because no signs indicate cash only.\\t0\\n\\nHighly recommended.\\t1\\n\\nWaitress was a little slow in service.\\t0\\n\\nThis place is not worth your time, let alone Vegas.\\t0\\n\\ndid not like at all.\\t0\\n\\nThe Burrittos Blah!\\t0\\n\\nThe food, amazing.\\t1\\n\\nService is also cute.\\t1\\n\\nI could care less... The interior is just beautiful.\\t1\\n\\nSo they performed.\\t1\\n\\nThat\\'s right....the red velvet cake.....ohhh this stuff is so good.\\t1\\n\\n- They never brought a salad we asked for.\\t0\\n\\nThis hole in the wall has great Mexican street tacos, and friendly staff.\\t1\\n\\nTook an hour to get our food only 4 tables in restaurant my food was Luke warm, Our sever was running around like he was totally overwhelmed.\\t0\\n\\nThe worst was the salmon sashimi.\\t0\\n\\nAlso there are combos like a burger, fries, and beer for 23 which is a decent deal.\\t1\\n\\nThis was like the final blow!\\t0\\n\\nI found this place by accident and I could not be happier.\\t1\\n\\nseems like a good quick place to grab a bite of some familiar pub food, but do yourself a favor and look elsewhere.\\t0\\n\\nOverall, I like this place a lot.\\t1\\n\\nThe only redeeming quality of the restaurant was that it was very inexpensive.\\t1\\n\\nAmple portions and good prices.\\t1\\n\\nPoor service, the waiter made me feel like I was stupid every time he came to the table.\\t0\\n\\nMy first visit to Hiro was a delight!\\t1\\n\\nService sucks.\\t0\\n\\nThe shrimp tender and moist.\\t1\\n\\nThere is not a deal good enough that would drag me into that establishment again.\\t0\\n\\nHard to judge whether these sides were good because we were grossed out by the melted styrofoam and didn\\'t want to eat it for fear of getting sick.\\t0\\n\\nOn a positive note, our server was very attentive and provided great service.\\t1\\n\\nFrozen pucks of disgust, with some of the worst people behind the register.\\t0\\n\\nThe only thing I did like was the prime rib and dessert section.\\t1\\n\\nIt\\'s too bad the food is so damn generic.\\t0\\n\\nThe burger is good beef, cooked just right.\\t1\\n\\nIf you want a sandwich just go to any Firehouse!!!!!\\t1\\n\\nMy side Greek salad with the Greek dressing was so tasty, and the pita and hummus was very refreshing.\\t1\\n\\nWe ordered the duck rare and it was pink and tender on the inside with a nice char on the outside.\\t1\\n\\nHe came running after us when he realized my husband had left his sunglasses on the table.\\t1\\n\\nTheir chow mein is so good!\\t1\\n\\nThey have horrible attitudes towards customers, and talk down to each one when customers don\\'t enjoy their food.\\t0\\n\\nThe portion was huge!\\t1\\n\\nLoved it...friendly servers, great food, wonderful and imaginative menu.\\t1\\n\\nThe Heart Attack Grill in downtown Vegas is an absolutely flat-lined excuse for a restaurant.\\t0\\n\\nNot much seafood and like 5 strings of pasta at the bottom.\\t0\\n\\nThe salad had just the right amount of sauce to not over power the scallop, which was perfectly cooked.\\t1\\n\\nThe ripped banana was not only ripped, but petrified and tasteless.\\t0\\n\\nAt least think to refill my water before I struggle to wave you over for 10 minutes.\\t0\\n\\nThis place receives stars for their APPETIZERS!!!\\t1\\n\\nThe cocktails are all handmade and delicious.\\t1\\n\\nWe\\'d definitely go back here again.\\t1\\n\\nWe are so glad we found this place.\\t1\\n\\nGreat food and service, huge portions and they give a military discount.\\t1\\n\\nAlways a great time at Dos Gringos!\\t1\\n\\nUpdate.....went back for a second time and it was still just as amazing\\t1\\n\\nWe got the food and apparently they have never heard of salt and the batter on the fish was chewy.\\t0\\n\\nA great way to finish a great.\\t1\\n\\nThe deal included 5 tastings and 2 drinks, and Jeff went above and beyond what we expected.\\t1\\n\\n- Really, really good rice, all the time.\\t1\\n\\nThe service was meh.\\t0\\n\\nIt took over 30 min to get their milkshake, which was nothing more than chocolate milk.\\t0\\n\\nI guess I should have known that this place would suck, because it is inside of the Excalibur, but I didn\\'t use my common sense.\\t0\\n\\nThe scallop dish is quite appalling for value as well.\\t0\\n\\n2 times - Very Bad Customer Service !\\t0\\n\\nThe sweet potato fries were very good and seasoned well.\\t1\\n\\nToday is the second time I\\'ve been to their lunch buffet and it was pretty good.\\t1\\n\\nThere is so much good food in Vegas that I feel cheated for wasting an eating opportunity by going to Rice and Company.\\t0\\n\\nComing here is like experiencing an underwhelming relationship where both parties can\\'t wait for the other person to ask to break up.\\t0\\n\\nwalked in and the place smelled like an old grease trap and only 2 others there eating.\\t0\\n\\nThe turkey and roast beef were bland.\\t0\\n\\nThis place has it!\\t1\\n\\nThe pan cakes everyone are raving about taste like a sugary disaster tailored to the palate of a six year old.\\t0\\n\\nI love the Pho and the spring rolls oh so yummy you have to try.\\t1\\n\\nThe poor batter to meat ratio made the chicken tenders very unsatisfying.\\t0\\n\\nAll I have to say is the food was amazing!!!\\t1\\n\\nOmelets are to die for!\\t1\\n\\nEverything was fresh and delicious!\\t1\\n\\nIn summary, this was a largely disappointing dining experience.\\t0\\n\\nIt\\'s like a really sexy party in your mouth, where you\\'re outrageously flirting with the hottest person at the party.\\t1\\n\\nNever been to Hard Rock Casino before, WILL NEVER EVER STEP FORWARD IN IT AGAIN!\\t0\\n\\nBest breakfast buffet!!!\\t1\\n\\nsay bye bye to your tip lady!\\t0\\n\\nWe\\'ll never go again.\\t0\\n\\nWill be back again!\\t1\\n\\nFood arrived quickly!\\t1\\n\\nIt was not good.\\t0\\n\\nOn the up side, their cafe serves really good food.\\t1\\n\\nOur server was fantastic and when he found out the wife loves roasted garlic and bone marrow, he added extra to our meal and another marrow to go!\\t1\\n\\nThe only good thing was our waiter, he was very helpful and kept the bloddy mary\\'s coming.\\t1\\n\\nBest Buffet in town, for the price you cannot beat it.\\t1\\n\\nI LOVED their mussels cooked in this wine reduction, the duck was tender, and their potato dishes were delicious.\\t1\\n\\nThis is one of the better buffets that I have been to.\\t1\\n\\nSo we went to Tigerlilly and had a fantastic afternoon!\\t1\\n\\nThe food was delicious, our bartender was attentive and personable AND we got a great deal!\\t1\\n\\nThe ambience is wonderful and there is music playing.\\t1\\n\\nWill go back next trip out.\\t1\\n\\nSooooo good!!\\t1\\n\\nREAL sushi lovers, let\\'s be honest - Yama is not that good.\\t0\\n\\nAt least 40min passed in between us ordering and the food arriving, and it wasn\\'t that busy.\\t0\\n\\nThis is a really fantastic Thai restaurant which is definitely worth a visit.\\t1\\n\\nNice, spicy and tender.\\t1\\n\\nGood prices.\\t1\\n\\nCheck it out.\\t1\\n\\nIt was pretty gross!\\t0\\n\\nI\\'ve had better atmosphere.\\t0\\n\\nKind of hard to mess up a steak but they did.\\t0\\n\\nAlthough I very much liked the look and sound of this place, the actual experience was a bit disappointing.\\t0\\n\\nI just don\\'t know how this place managed to served the blandest food I have ever eaten when they are preparing Indian cuisine.\\t0\\n\\nWorst service to boot, but that is the least of their worries.\\t0\\n\\nService was fine and the waitress was friendly.\\t1\\n\\nThe guys all had steaks, and our steak loving son who has had steak at the best and worst places said it was the best steak he\\'s ever eaten.\\t1\\n\\nWe thought you\\'d have to venture further away to get good sushi, but this place really hit the spot that night.\\t1\\n\\nHost staff were, for lack of a better word, BITCHES!\\t0\\n\\nBland... Not a liking this place for a number of reasons and I don\\'t want to waste time on bad reviewing.. I\\'ll leave it at that...\\t0\\n\\nPhenomenal food, service and ambiance.\\t1\\n\\nI wouldn\\'t return.\\t0\\n\\nDefinitely worth venturing off the strip for the pork belly, will return next time I\\'m in Vegas.\\t1\\n\\nThis place is way too overpriced for mediocre food.\\t0\\n\\nPenne vodka excellent!\\t1\\n\\nThey have a good selection of food including a massive meatloaf sandwich, a crispy chicken wrap, a delish tuna melt and some tasty burgers.\\t1\\n\\nThe management is rude.\\t0\\n\\nDelicious NYC bagels, good selections of cream cheese, real Lox with capers even.\\t1\\n\\nGreat Subway, in fact it\\'s so good when you come here every other Subway will not meet your expectations.\\t1\\n\\nI had a seriously solid breakfast here.\\t1\\n\\nThis is one of the best bars with food in Vegas.\\t1\\n\\nHe was extremely rude and really, there are so many other restaurants I would love to dine at during a weekend in Vegas.\\t0\\n\\nMy drink was never empty and he made some really great menu suggestions.\\t1\\n\\nDon\\'t do it!!!!\\t0\\n\\nThe waiter wasn\\'t helpful or friendly and rarely checked on us.\\t0\\n\\nMy husband and I ate lunch here and were very disappointed with the food and service.\\t0\\n\\nAnd the red curry had so much bamboo shoots and wasn\\'t very tasty to me.\\t0\\n\\nNice blanket of moz over top but i feel like this was done to cover up the subpar food.\\t1\\n\\nThe bathrooms are clean and the place itself is well decorated.\\t1\\n\\nThe menu is always changing, food quality is going down & service is extremely slow.\\t0\\n\\nThe service was a little slow , considering that were served by 3 people servers so the food was coming in a slow pace.\\t0\\n\\nI give it 2 thumbs down\\t0\\n\\nWe watched our waiter pay a lot more attention to other tables and ignore us.\\t0\\n\\nMy fiancé and I came in the middle of the day and we were greeted and seated right away.\\t1\\n\\nThis is a great restaurant at the Mandalay Bay.\\t1\\n\\nWe waited for forty five minutes in vain.\\t0\\n\\nCrostini that came with the salad was stale.\\t0\\n\\nSome highlights : Great quality nigiri here!\\t1\\n\\nthe staff is friendly and the joint is always clean.\\t1\\n\\nthis was a different cut than the piece the other day but still wonderful and tender s well as well flavored.\\t1\\n\\nI ordered the Voodoo pasta and it was the first time I\\'d had really excellent pasta since going gluten free several years ago.\\t1\\n\\nthis place is good.\\t1\\n\\nUnfortunately, we must have hit the bakery on leftover day because everything we ordered was STALE.\\t0\\n\\nI came back today since they relocated and still not impressed.\\t0\\n\\nI was seated immediately.\\t1\\n\\nTheir menu is diverse, and reasonably priced.\\t1\\n\\nAvoid at all cost!\\t0\\n\\nRestaurant is always full but never a wait.\\t1\\n\\nDELICIOUS!!\\t1\\n\\nThis place is hands-down one of the best places to eat in the Phoenix metro area.\\t1\\n\\nSo don\\'t go there if you are looking for good food...\\t0\\n\\nI\\'ve never been treated so bad.\\t0\\n\\nBacon is hella salty.\\t1\\n\\nWe also ordered the spinach and avocado salad, the ingredients were sad and the dressing literally had zero taste.\\t0\\n\\nThis really is how Vegas fine dining used to be, right down to the menus handed to the ladies that have no prices listed.\\t1\\n\\nThe waitresses are very friendly.\\t1\\n\\nLordy, the Khao Soi is a dish that is not to be missed for curry lovers!\\t1\\n\\nEverything on the menu is terrific and we were also thrilled that they made amazing accommodations for our vegetarian daughter.\\t1\\n\\nPerhaps I caught them on an off night judging by the other reviews, but I\\'m not inspired to go back.\\t0\\n\\nThe service here leaves a lot to be desired.\\t0\\n\\nThe atmosphere is modern and hip, while maintaining a touch of coziness.\\t1\\n\\nNot a weekly haunt, but definitely a place to come back to every once in a while.\\t1\\n\\nWe literally sat there for 20 minutes with no one asking to take our order.\\t0\\n\\nThe burger had absolutely no flavor - the meat itself was totally bland, the burger was overcooked and there was no charcoal flavor.\\t0\\n\\nI also decided not to send it back because our waitress looked like she was on the verge of having a heart attack.\\t0\\n\\nI dressed up to be treated so rudely!\\t0\\n\\nIt was probably dirt.\\t0\\n\\nLove this place, hits the spot when I want something healthy but not lacking in quantity or flavor.\\t1\\n\\nI ordered the Lemon raspberry ice cocktail which was also incredible.\\t1\\n\\nThe food sucked, which we expected but it sucked more than we could have imagined.\\t0\\n\\nInteresting decor.\\t1\\n\\nWhat I really like there is the crepe station.\\t1\\n\\nAlso were served hot bread and butter, and home made potato chips with bacon bits on top....very original and very good.\\t1\\n\\nyou can watch them preparing the delicious food!)\\t1\\n\\nBoth of the egg rolls were fantastic.\\t1\\n\\nWhen my order arrived, one of the gyros was missing.\\t0\\n\\nI had a salad with the wings, and some ice cream for dessert and left feeling quite satisfied.\\t1\\n\\nI\\'m not really sure how Joey\\'s was voted best hot dog in the Valley by readers of Phoenix Magazine.\\t0\\n\\nThe best place to go for a tasty bowl of Pho!\\t1\\n\\nThe live music on Fridays totally blows.\\t0\\n\\nI\\'ve never been more insulted or felt disrespected.\\t0\\n\\nVery friendly staff.\\t1\\n\\nIt is worth the drive.\\t1\\n\\nI had heard good things about this place, but it exceeding every hope I could have dreamed of.\\t1\\n\\nFood was great and so was the serivce!\\t1\\n\\nThe warm beer didn\\'t help.\\t0\\n\\nGreat brunch spot.\\t1\\n\\nService is friendly and inviting.\\t1\\n\\nVery good lunch spot.\\t1\\n\\nI\\'ve lived here since 1979 and this was the first (and last) time I\\'ve stepped foot into this place.\\t0\\n\\nThe WORST EXPERIENCE EVER.\\t0\\n\\nMust have been an off night at this place.\\t0\\n\\nThe sides are delish - mixed mushrooms, yukon gold puree, white corn - beateous.\\t1\\n\\nIf that bug never showed up I would have given a 4 for sure, but on the other side of the wall where this bug was climbing was the kitchen.\\t0\\n\\nFor about 10 minutes, we we\\'re waiting for her salad when we realized that it wasn\\'t coming any time soon.\\t0\\n\\nMy friend loved the salmon tartar.\\t1\\n\\nWon\\'t go back.\\t0\\n\\nExtremely Tasty!\\t1\\n\\nWaitress was good though!\\t1\\n\\nSoggy and not good.\\t0\\n\\nThe Jamaican mojitos are delicious.\\t1\\n\\nWhich are small and not worth the price.\\t0\\n\\n- the food is rich so order accordingly.\\t1\\n\\nThe shower area is outside so you can only rinse, not take a full shower, unless you don\\'t mind being nude for everyone to see!\\t0\\n\\nThe service was a bit lacking.\\t0\\n\\nLobster Bisque, Bussell Sprouts, Risotto, Filet ALL needed salt and pepper..and of course there is none at the tables.\\t0\\n\\nHopefully this bodes for them going out of business and someone who can cook can come in.\\t0\\n\\nIt was either too cold, not enough flavor or just bad.\\t0\\n\\nI loved the bacon wrapped dates.\\t1\\n\\nThis is an unbelievable BARGAIN!\\t1\\n\\nThe folks at Otto always make us feel so welcome and special.\\t1\\n\\nAs for the \"mains,\" also uninspired.\\t0\\n\\nThis is the place where I first had pho and it was amazing!!\\t1\\n\\nThis wonderful experience made this place a must-stop whenever we are in town again.\\t1\\n\\nIf the food isn\\'t bad enough for you, then enjoy dealing with the world\\'s worst/annoying drunk people.\\t0\\n\\nVery very fun chef.\\t1\\n\\nOrdered a double cheeseburger & got a single patty that was falling apart (picture uploaded) Yeah, still sucks.\\t0\\n\\nGreat place to have a couple drinks and watch any and all sporting events as the walls are covered with TV\\'s.\\t1\\n\\nIf it were possible to give them zero stars, they\\'d have it.\\t0\\n\\nThe descriptions said \"yum yum sauce\" and another said \"eel sauce\", yet another said \"spicy mayo\"...well NONE of the rolls had sauces on them.\\t0\\n\\nI\\'d say that would be the hardest decision... Honestly, all of M\\'s dishes taste how they are supposed to taste (amazing).\\t1\\n\\nIf she had not rolled the eyes we may have stayed... Not sure if we will go back and try it again.\\t0\\n\\nEveryone is very attentive, providing excellent customer service.\\t1\\n\\nHorrible - don\\'t waste your time and money.\\t0\\n\\nNow this dish was quite flavourful.\\t1\\n\\nBy this time our side of the restaurant was almost empty so there was no excuse.\\t0\\n\\n(It wasn\\'t busy either) Also, the building was FREEZING cold.\\t0\\n\\nlike the other reviewer said \"you couldn\\'t pay me to eat at this place again.\"\\t0\\n\\n-Drinks took close to 30 minutes to come out at one point.\\t0\\n\\nSeriously flavorful delights, folks.\\t1\\n\\nMuch better than the other AYCE sushi place I went to in Vegas.\\t1\\n\\nThe lighting is just dark enough to set the mood.\\t1\\n\\nBased on the sub-par service I received and no effort to show their gratitude for my business I won\\'t be going back.\\t0\\n\\nOwner\\'s are really great people.!\\t1\\n\\nThere is nothing privileged about working/eating there.\\t0\\n\\nThe Greek dressing was very creamy and flavorful.\\t1\\n\\nOverall, I don\\'t think that I would take my parents to this place again because they made most of the similar complaints that I silently felt too.\\t0\\n\\nNow the pizza itself was good the peanut sauce was very tasty.\\t1\\n\\nWe had 7 at our table and the service was pretty fast.\\t1\\n\\nFantastic service here.\\t1\\n\\nI as well would\\'ve given godfathers zero stars if possible.\\t0\\n\\nThey know how to make them here.\\t1\\n\\nvery tough and very short on flavor!\\t0\\n\\nI hope this place sticks around.\\t1\\n\\nI have been in more than a few bars in Vegas, and do not ever recall being charged for tap water.\\t0\\n\\nThe restaurant atmosphere was exquisite.\\t1\\n\\nGood service, very clean, and inexpensive, to boot!\\t1\\n\\nThe seafood was fresh and generous in portion.\\t1\\n\\nPlus, it\\'s only 8 bucks.\\t1\\n\\nThe service was not up to par, either.\\t0\\n\\nThus far, have only visited twice and the food was absolutely delicious each time.\\t1\\n\\nJust as good as when I had it more than a year ago!\\t1\\n\\nFor a self proclaimed coffee cafe, I was wildly disappointed.\\t0\\n\\nThe Veggitarian platter is out of this world!\\t1\\n\\nYou cant go wrong with any of the food here.\\t1\\n\\nYou can\\'t beat that.\\t1\\n\\nStopped by this place while in Madison for the Ironman, very friendly, kind staff.\\t1\\n\\nThe chefs were friendly and did a good job.\\t1\\n\\nI\\'ve had better, not only from dedicated boba tea spots, but even from Jenni Pho.\\t0\\n\\nI liked the patio and the service was outstanding.\\t1\\n\\nThe goat taco didn\\'t skimp on the meat and wow what FLAVOR!\\t1\\n\\nI think not again\\t0\\n\\nI had the mac salad and it was pretty bland so I will not be getting that again.\\t0\\n\\nI went to Bachi Burger on a friend\\'s recommendation and was not disappointed.\\t1\\n\\nService stinks here!\\t0\\n\\nI waited and waited.\\t0\\n\\nThis place is not quality sushi, it is not a quality restaurant.\\t0\\n\\nI would definitely recommend the wings as well as the pizza.\\t1\\n\\nGreat Pizza and Salads!\\t1\\n\\nThings that went wrong: - They burned the saganaki.\\t0\\n\\nWe waited an hour for what was a breakfast I could have done 100 times better at home.\\t0\\n\\nThis place is amazing!\\t1\\n\\nI hate to disagree with my fellow Yelpers, but my husband and I were so disappointed with this place.\\t0\\n\\nWaited 2 hours & never got either of our pizzas as many other around us who came in later did!\\t0\\n\\nJust don\\'t know why they were so slow.\\t0\\n\\nThe staff is great, the food is delish, and they have an incredible beer selection.\\t1\\n\\nI live in the neighborhood so I am disappointed I won\\'t be back here, because it is a convenient location.\\t0\\n\\nI didn\\'t know pulled pork could be soooo delicious.\\t1\\n\\nYou get incredibly fresh fish, prepared with care.\\t1\\n\\nBefore I go in to why I gave a 1 star rating please know that this was my third time eating at Bachi burger before writing a review.\\t0\\n\\nI love the fact that everything on their menu is worth it.\\t1\\n\\nNever again will I be dining at this place!\\t0\\n\\nThe food was excellent and service was very good.\\t1\\n\\nGood beer & drink selection and good food selection.\\t1\\n\\nPlease stay away from the shrimp stir fried noodles.\\t0\\n\\nThe potato chip order was sad... I could probably count how many chips were in that box and it was probably around 12.\\t0\\n\\nFood was really boring.\\t0\\n\\nGood Service-check!\\t1\\n\\nThis greedy corporation will NEVER see another dime from me!\\t0\\n\\nWill never, ever go back.\\t0\\n\\nAs much as I\\'d like to go back, I can\\'t get passed the atrocious service and will never return.\\t0\\n\\nIn the summer, you can dine in a charming outdoor patio - so very delightful.\\t1\\n\\nI did not expect this to be so good!\\t1\\n\\nFantastic food!\\t1\\n\\nShe ordered a toasted English muffin that came out untoasted.\\t0\\n\\nThe food was very good.\\t1\\n\\nNever going back.\\t0\\n\\nGreat food for the price, which is very high quality and house made.\\t1\\n\\nThe bus boy on the other hand was so rude.\\t0\\n\\nBy this point, my friends and I had basically figured out this place was a joke and didn\\'t mind making it publicly and loudly known.\\t0\\n\\nBack to good BBQ, lighter fare, reasonable pricing and tell the public they are back to the old ways.\\t1\\n\\nAnd considering the two of us left there very full and happy for about $20, you just can\\'t go wrong.\\t1\\n\\nAll the bread is made in-house!\\t1\\n\\nThe only downside is the service.\\t0\\n\\nAlso, the fries are without a doubt the worst fries I\\'ve ever had.\\t0\\n\\nService was exceptional and food was a good as all the reviews.\\t1\\n\\nA couple of months later, I returned and had an amazing meal.\\t1\\n\\nFavorite place in town for shawarrrrrrma!!!!!!\\t1\\n\\nThe black eyed peas and sweet potatoes... UNREAL!\\t1\\n\\nYou won\\'t be disappointed.\\t1\\n\\nThey could serve it with just the vinaigrette and it may make for a better overall dish, but it was still very good.\\t1\\n\\nI go to far too many places and I\\'ve never seen any restaurant that serves a 1 egg breakfast, especially for $4.00.\\t0\\n\\nWhen my mom and I got home she immediately got sick and she only had a few bites of salad.\\t0\\n\\nThe servers are not pleasant to deal with and they don\\'t always honor Pizza Hut coupons.\\t0\\n\\nBoth of them were truly unbelievably good, and I am so glad we went back.\\t1\\n\\nWe had fantastic service, and were pleased by the atmosphere.\\t1\\n\\nEverything was gross.\\t0\\n\\nI love this place.\\t1\\n\\nGreat service and food.\\t1\\n\\nFirst - the bathrooms at this location were dirty- Seat covers were not replenished & just plain yucky!!!\\t0\\n\\nThe burger... I got the \"Gold Standard\" a $17 burger and was kind of disappointed.\\t0\\n\\nOMG, the food was delicioso!\\t1\\n\\nThere is nothing authentic about this place.\\t0\\n\\nthe spaghetti is nothing special whatsoever.\\t0\\n\\nOf all the dishes, the salmon was the best, but all were great.\\t1\\n\\nThe vegetables are so fresh and the sauce feels like authentic Thai.\\t1\\n\\nIt\\'s worth driving up from Tucson!\\t1\\n\\nThe selection was probably the worst I\\'ve seen in Vegas.....there was none.\\t0\\n\\nPretty good beer selection too.\\t1\\n\\nThis place is like Chipotle, but BETTER.\\t1\\n\\nClassy/warm atmosphere, fun and fresh appetizers, succulent steaks (Baseball steak!!!!!\\t1\\n\\n5 stars for the brick oven bread app!\\t1\\n\\nI have eaten here multiple times, and each time the food was delicious.\\t1\\n\\nWe sat another ten minutes and finally gave up and left.\\t0\\n\\nHe was terrible!\\t0\\n\\nEveryone is treated equally special.\\t1\\n\\nIt shouldn\\'t take 30 min for pancakes and eggs.\\t0\\n\\nIt was delicious!!!\\t1\\n\\nOn the good side, the staff was genuinely pleasant and enthusiastic - a real treat.\\t1\\n\\nSadly, Gordon Ramsey\\'s Steak is a place we shall sharply avoid during our next trip to Vegas.\\t0\\n\\nAs always the evening was wonderful and the food delicious!\\t1\\n\\nBest fish I\\'ve ever had in my life!\\t1\\n\\n(The bathroom is just next door and very nice.)\\t1\\n\\nThe buffet is small and all the food they offered was BLAND.\\t0\\n\\nThis is an Outstanding little restaurant with some of the Best Food I have ever tasted.\\t1\\n\\nPretty cool I would say.\\t1\\n\\nDefinitely a turn off for me & i doubt I\\'ll be back unless someone else is buying.\\t0\\n\\nServer did a great job handling our large rowdy table.\\t1\\n\\nI find wasting food to be despicable, but this just wasn\\'t food.\\t0\\n\\nMy wife had the Lobster Bisque soup which was lukewarm.\\t0\\n\\nWould come back again if I had a sushi craving while in Vegas.\\t1\\n\\nThe staff are great, the ambiance is great.\\t1\\n\\nHe deserves 5 stars.\\t1\\n\\nI left with a stomach ache and felt sick the rest of the day.\\t0\\n\\nThey dropped more than the ball.\\t0\\n\\nThe dining space is tiny, but elegantly decorated and comfortable.\\t1\\n\\nThey will customize your order any way you\\'d like, my usual is Eggplant with Green Bean stir fry, love it!\\t1\\n\\nAnd the beans and rice were mediocre at best.\\t0\\n\\nBest tacos in town by far!!\\t1\\n\\nI took back my money and got outta there.\\t0\\n\\nIn an interesting part of town, this place is amazing.\\t1\\n\\nRUDE & INCONSIDERATE MANAGEMENT.\\t0\\n\\nThe staff are now not as friendly, the wait times for being served are horrible, no one even says hi for the first 10 minutes.\\t0\\n\\nI won\\'t be back.\\t0\\n\\nThey have great dinners.\\t1\\n\\nThe service was outshining & I definitely recommend the Halibut.\\t1\\n\\nThe food was terrible.\\t0\\n\\nWILL NEVER EVER GO BACK AND HAVE TOLD MANY PEOPLE WHAT HAD HAPPENED.\\t0\\n\\nI don\\'t recommend unless your car breaks down in front of it and you are starving.\\t0\\n\\nI will come back here every time I\\'m in Vegas.\\t1\\n\\nThis place deserves one star and 90% has to do with the food.\\t0\\n\\nThis is a disgrace.\\t0\\n\\nDef coming back to bowl next time\\t1\\n\\nIf you want healthy authentic or ethic food, try this place.\\t1\\n\\nI will continue to come here on ladies night andddd date night ... highly recommend this place to anyone who is in the area.\\t1\\n\\nI have been here several times in the past, and the experience has always been great.\\t1\\n\\nWe walked away stuffed and happy about our first Vegas buffet experience.\\t1\\n\\nService was excellent and prices are pretty reasonable considering this is Vegas and located inside the Crystals shopping mall by Aria.\\t1\\n\\nTo summarize... the food was incredible, nay, transcendant... but nothing brings me joy quite like the memory of the pneumatic condiment dispenser.\\t1\\n\\nI\\'m probably one of the few people to ever go to Ians and not like it.\\t0\\n\\nKids pizza is always a hit too with lots of great side dish options for the kiddos!\\t1\\n\\nService is perfect and the family atmosphere is nice to see.\\t1\\n\\nCooked to perfection and the service was impeccable.\\t1\\n\\nThis one is simply a disappointment.\\t0\\n\\nOverall, I was very disappointed with the quality of food at Bouchon.\\t0\\n\\nI don\\'t have to be an accountant to know I\\'m getting screwed!\\t0\\n\\nGreat place to eat, reminds me of the little mom and pop shops in the San Francisco Bay Area.\\t1\\n\\nToday was my first taste of a Buldogis Gourmet Hot Dog and I have to tell you it was more than I ever thought possible.\\t1\\n\\nLeft very frustrated.\\t0\\n\\nI\\'ll definitely be in soon again.\\t1\\n\\nFood was really good and I got full petty fast.\\t1\\n\\nService was fantastic.\\t1\\n\\nTOTAL WASTE OF TIME.\\t0\\n\\nI don\\'t know what kind it is but they have the best iced tea.\\t1\\n\\nCome hungry, leave happy and stuffed!\\t1\\n\\nFor service, I give them no stars.\\t0\\n\\nI can assure you that you won\\'t be disappointed.\\t1\\n\\nI can take a little bad service but the food sucks.\\t0\\n\\nGave up trying to eat any of the crust (teeth still sore).\\t0\\n\\nBut now I was completely grossed out.\\t0\\n\\nI really enjoyed eating here.\\t1\\n\\nFirst time going but I think I will quickly become a regular.\\t1\\n\\nOur server was very nice, and even though he looked a little overwhelmed with all of our needs, he stayed professional and friendly until the end.\\t1\\n\\nFrom what my dinner companions told me...everything was very fresh with nice texture and taste.\\t1\\n\\nOn the ground, right next to our table was a large, smeared, been-stepped-in-and-tracked-everywhere pile of green bird poop.\\t0\\n\\nFurthermore, you can\\'t even find hours of operation on the website!\\t0\\n\\nWe\\'ve tried to like this place but after 10+ times I think we\\'re done with them.\\t0\\n\\nWhat a mistake that was!\\t0\\n\\nNo complaints!\\t1\\n\\nThis is some seriously good pizza and I\\'m an expert/connisseur on the topic.\\t1\\n\\nWaiter was a jerk.\\t0\\n\\nStrike 2, who wants to be rushed.\\t0\\n\\nThese are the nicest restaurant owners I\\'ve ever come across.\\t1\\n\\nI never come again.\\t0\\n\\nWe loved the biscuits!!!\\t1\\n\\nService is quick and friendly.\\t1\\n\\nOrdered an appetizer and took 40 minutes and then the pizza another 10 minutes.\\t0\\n\\nSo absolutley fantastic.\\t1\\n\\nIt was a huge awkward 1.5lb piece of cow that was 3/4ths gristle and fat.\\t0\\n\\ndefinitely will come back here again.\\t1\\n\\nI like Steiners because it\\'s dark and it feels like a bar.\\t1\\n\\nWow very spicy but delicious.\\t1\\n\\nIf you\\'re not familiar, check it out.\\t1\\n\\nI\\'ll take my business dinner dollars elsewhere.\\t0\\n\\nI\\'d love to go back.\\t1\\n\\nAnyway, this FS restaurant has a wonderful breakfast/lunch.\\t1\\n\\nNothing special.\\t0\\n\\nEach day of the week they have a different deal and it\\'s all so delicious!\\t1\\n\\nNot to mention the combination of pears, almonds and bacon is a big winner!\\t1\\n\\nWill not be back.\\t0\\n\\nSauce was tasteless.\\t0\\n\\nThe food is delicious and just spicy enough, so be sure to ask for spicier if you prefer it that way.\\t1\\n\\nMy ribeye steak was cooked perfectly and had great mesquite flavor.\\t1\\n\\nI don\\'t think we\\'ll be going back anytime soon.\\t0\\n\\nFood was so gooodd.\\t1\\n\\nI am far from a sushi connoisseur but I can definitely tell the difference between good food and bad food and this was certainly bad food.\\t0\\n\\nI was so insulted.\\t0\\n\\nThe last 3 times I had lunch here has been bad.\\t0\\n\\nThe chicken wings contained the driest chicken meat I have ever eaten.\\t0\\n\\nThe food was very good and I enjoyed every mouthful, an enjoyable relaxed venue for couples small family groups etc.\\t1\\n\\nNargile - I think you are great.\\t1\\n\\nBest tater tots in the southwest.\\t1\\n\\nWe loved the place.\\t1\\n\\nDefinitely not worth the $3 I paid.\\t0\\n\\nThe vanilla ice cream was creamy and smooth while the profiterole (choux) pastry was fresh enough.\\t1\\n\\nIm in AZ all the time and now have my new spot.\\t1\\n\\nThe manager was the worst.\\t0\\n\\nThe inside is really quite nice and very clean.\\t1\\n\\nThe food was outstanding and the prices were very reasonable.\\t1\\n\\nI don\\'t think I\\'ll be running back to Carly\\'s anytime soon for food.\\t0\\n\\nThis is was due to the fact that it took 20 minutes to be acknowledged, then another 35 minutes to get our food...and they kept forgetting things.\\t0\\n\\nLove the margaritas, too!\\t1\\n\\nThis was my first and only Vegas buffet and it did not disappoint.\\t1\\n\\nVery good, though!\\t1\\n\\nThe one down note is the ventilation could use some upgrading.\\t0\\n\\nGreat pork sandwich.\\t1\\n\\nDon\\'t waste your time here.\\t0\\n\\nTotal letdown, I would much rather just go to the Camelback Flower Shop and Cartel Coffee.\\t0\\n\\nThird, the cheese on my friend\\'s burger was cold.\\t0\\n\\nWe enjoy their pizza and brunch.\\t1\\n\\nThe steaks are all well trimmed and also perfectly cooked.\\t1\\n\\nWe had a group of 70+ when we claimed we would only have 40 and they handled us beautifully.\\t1\\n\\nI LOVED it!\\t1\\n\\nWe asked for the bill to leave without eating and they didn\\'t bring that either.\\t0\\n\\nThis place is a jewel in Las Vegas, and exactly what I\\'ve been hoping to find in nearly ten years living here.\\t1\\n\\nSeafood was limited to boiled shrimp and crab legs but the crab legs definitely did not taste fresh.\\t0\\n\\nThe selection of food was not the best.\\t0\\n\\nDelicious and I will absolutely be back!\\t1\\n\\nThis isn\\'t a small family restaurant, this is a fine dining establishment.\\t1\\n\\nThey had a toro tartare with a cavier that was extraordinary and I liked the thinly sliced wagyu with white truffle.\\t1\\n\\nI dont think I will be back for a very long time.\\t0\\n\\nIt was attached to a gas station, and that is rarely a good sign.\\t0\\n\\nHow awesome is that.\\t1\\n\\nI will be back many times soon.\\t1\\n\\nThe menu had so much good stuff on it i could not decide!\\t1\\n\\nWorse of all, he humiliated his worker right in front of me..Bunch of horrible name callings.\\t0\\n\\nCONCLUSION: Very filling meals.\\t1\\n\\nTheir daily specials are always a hit with my group.\\t1\\n\\nAnd then tragedy struck.\\t0\\n\\nThe pancake was also really good and pretty large at that.\\t1\\n\\nThis was my first crawfish experience, and it was delicious!\\t1\\n\\nTheir monster chicken fried steak and eggs is my all time favorite.\\t1\\n\\nWaitress was sweet and funny.\\t1\\n\\nI also had to taste my Mom\\'s multi-grain pumpkin pancakes with pecan butter and they were amazing, fluffy, and delicious!\\t1\\n\\nI\\'d rather eat airline food, seriously.\\t0\\n\\nCant say enough good things about this place.\\t1\\n\\nThe ambiance was incredible.\\t1\\n\\nThe waitress and manager are so friendly.\\t1\\n\\nI would not recommend this place.\\t0\\n\\nOverall I wasn\\'t very impressed with Noca.\\t0\\n\\nMy gyro was basically lettuce only.\\t0\\n\\nTerrible service!\\t0\\n\\nThoroughly disappointed!\\t0\\n\\nI don\\'t each much pasta, but I love the homemade /hand made pastas and thin pizzas here.\\t1\\n\\nGive it a try, you will be happy you did.\\t1\\n\\nBy far the BEST cheesecurds we have ever had!\\t1\\n\\nReasonably priced also!\\t1\\n\\nEverything was perfect the night we were in.\\t1\\n\\nThe food is very good for your typical bar food.\\t1\\n\\nit was a drive to get there.\\t0\\n\\nAt first glance it is a lovely bakery cafe - nice ambiance, clean, friendly staff.\\t1\\n\\nAnyway, I do not think i will go back there.\\t0\\n\\nPoint your finger at any item on the menu, order it and you won\\'t be disappointed.\\t1\\n\\nOh this is such a thing of beauty, this restaurant.\\t1\\n\\nIf you haven\\'t gone here GO NOW!\\t1\\n\\nA greasy, unhealthy meal.\\t0\\n\\nfirst time there and might just be the last.\\t0\\n\\nThose burgers were amazing.\\t1\\n\\nSimilarly, the delivery man did not say a word of apology when our food was 45 minutes late.\\t0\\n\\nAnd it was way to expensive.\\t0\\n\\nBe sure to order dessert, even if you need to pack it to-go - the tiramisu and cannoli are both to die for.\\t1\\n\\nThis was my first time and I can\\'t wait until the next.\\t1\\n\\nThe bartender was also nice.\\t1\\n\\nEverything was good and tasty!\\t1\\n\\nThis place is two thumbs up....way up.\\t1\\n\\nThe best place in Vegas for breakfast (just check out a Sat, or Sun.\\t1\\n\\nIf you love authentic Mexican food and want a whole bunch of interesting, yet delicious meats to choose from, you need to try this place.\\t1\\n\\nTerrible management.\\t0\\n\\nAn excellent new restaurant by an experienced Frenchman.\\t1\\n\\nIf there were zero stars I would give it zero stars.\\t0\\n\\nGreat steak, great sides, great wine, amazing desserts.\\t1\\n\\nWorst martini ever!\\t0\\n\\nThe steak and the shrimp are in my opinion the best entrees at GC.\\t1\\n\\nI had the opportunity today to sample your amazing pizzas!\\t1\\n\\nWe waited for thirty minutes to be seated (although there were 8 vacant tables and we were the only folks waiting).\\t0\\n\\nThe yellowtail carpaccio was melt in your mouth fresh.\\t1\\n\\nI won\\'t try going back there even if it\\'s empty.\\t0\\n\\nNo, I\\'m going to eat the potato that I found some strangers hair in it.\\t0\\n\\nJust spicy enough.. Perfect actually.\\t1\\n\\nLast night was my second time dining here and I was so happy I decided to go back!\\t1\\n\\nnot even a \"hello, we will be right with you.\"\\t0\\n\\nThe desserts were a bit strange.\\t0\\n\\nMy boyfriend and I came here for the first time on a recent trip to Vegas and could not have been more pleased with the quality of food and service.\\t1\\n\\nI really do recommend this place, you can go wrong with this donut place!\\t1\\n\\nNice ambiance.\\t1\\n\\nI would recommend saving room for this!\\t1\\n\\nI guess maybe we went on an off night but it was disgraceful.\\t0\\n\\nHowever, my recent experience at this particular location was not so good.\\t0\\n\\nI know this is not like the other restaurants at all, something is very off here!\\t0\\n\\nAVOID THIS ESTABLISHMENT!\\t0\\n\\nI think this restaurant suffers from not trying hard enough.\\t0\\n\\nAll of the tapas dishes were delicious!\\t1\\n\\nI *heart* this place.\\t1\\n\\nMy salad had a bland vinegrette on the baby greens and hearts of Palm.\\t0\\n\\nAfter two I felt disgusting.\\t0\\n\\nA good time!\\t1\\n\\nI believe that this place is a great stop for those with a huge belly and hankering for sushi.\\t1\\n\\nGenerous portions and great taste.\\t1\\n\\nI will never go back to this place and will never ever recommended this place to anyone!\\t0\\n\\nThe servers went back and forth several times, not even so much as an \"Are you being helped?\"\\t0\\n\\nFood was delicious!\\t1\\n\\nAN HOUR... seriously?\\t0\\n\\nI consider this theft.\\t0\\n\\nEew... This location needs a complete overhaul.\\t0\\n\\nWe recently witnessed her poor quality of management towards other guests as well.\\t0\\n\\nWaited and waited and waited.\\t0\\n\\nHe also came back to check on us regularly, excellent service.\\t1\\n\\nOur server was super nice and checked on us many times.\\t1\\n\\nThe pizza tasted old, super chewy in not a good way.\\t0\\n\\nI swung in to give them a try but was deeply disappointed.\\t0\\n\\nService was good and the company was better!\\t1\\n\\nThe staff are also very friendly and efficient.\\t1\\n\\nAs for the service: I\\'m a fan, because it\\'s quick and you\\'re being served by some nice folks.\\t1\\n\\nBoy was that sucker dry!!.\\t0\\n\\nOver rated.\\t0\\n\\nIf you look for authentic Thai food, go else where.\\t0\\n\\nTheir steaks are 100% recommended!\\t1\\n\\nAfter I pulled up my car I waited for another 15 minutes before being acknowledged.\\t0\\n\\nGreat food and great service in a clean and friendly setting.\\t1\\n\\nAll in all, I can assure you I\\'ll be back.\\t1\\n\\nI hate those things as much as cheap quality black olives.\\t0\\n\\nMy breakfast was perpared great, with a beautiful presentation of 3 giant slices of Toast, lightly dusted with powdered sugar.\\t1\\n\\nThe kids play area is NASTY!\\t0\\n\\nGreat place fo take out or eat in.\\t1\\n\\nThe waitress was friendly and happy to accomodate for vegan/veggie options.\\t1\\n\\nOMG I felt like I had never eaten Thai food until this dish.\\t1\\n\\nIt was extremely \"crumby\" and pretty tasteless.\\t0\\n\\nIt was a pale color instead of nice and char and has NO flavor.\\t0\\n\\nThe croutons also taste homemade which is an extra plus.\\t1\\n\\nI got home to see the driest damn wings ever!\\t0\\n\\nIt\\'ll be a regular stop on my trips to Phoenix!\\t1\\n\\nI really enjoyed Crema Café before they expanded. I even told friends they had the BEST breakfast.\\t1\\n\\nNot good for the money.\\t0\\n\\nI miss it and wish they had one in Philadelphia!\\t1\\n\\nWe got sitting fairly fast, but, ended up waiting 40 minutes just to place our order, another 30 minutes before the food arrived.\\t0\\n\\nThey also have the best cheese crisp in town.\\t1\\n\\nGood value, great food, great service.\\t1\\n\\nCouldn\\'t ask for a more satisfying meal.\\t1\\n\\nThe food is good.\\t1\\n\\nIt was awesome.\\t1\\n\\nI just wanted to leave.\\t0\\n\\nWe made the drive all the way from North Scottsdale... and I was not one bit disappointed!\\t1\\n\\nI will not be eating there again.\\t0\\n\\n!....THE OWNERS REALLY REALLY need to quit being soooooo cheap let them wrap my freaking sandwich in two papers not one!\\t0\\n\\nI checked out this place a couple years ago and was not impressed.\\t0\\n\\nThe chicken I got was definitely reheated and was only ok, the wedges were cold and soggy.\\t0\\n\\nSorry, I will not be getting food from here anytime soon :(\\t0\\n\\nAn absolute must visit!\\t1\\n\\nThe cow tongue and cheek tacos are amazing.\\t1\\n\\nMy friend did not like his Bloody Mary.\\t0\\n\\nDespite how hard I rate businesses, its actually rare for me to give a 1 star.\\t0\\n\\nThey really want to make your experience a good one.\\t1\\n\\nI will not return.\\t0\\n\\nI had the chicken Pho and it tasted very bland.\\t0\\n\\nVery disappointing!!!\\t0\\n\\nThe grilled chicken was so tender and yellow from the saffron seasoning.\\t1\\n\\na drive thru means you do not want to wait around for half an hour for your food, but somehow when we end up going here they make us wait and wait.\\t0\\n\\nPretty awesome place.\\t1\\n\\nAmbience is perfect.\\t1\\n\\nBest of luck to the rude and non-customer service focused new management.\\t0\\n\\nAny grandmother can make a roasted chicken better than this one.\\t0\\n\\nI asked multiple times for the wine list and after some time of being ignored I went to the hostess and got one myself.\\t0\\n\\nThe staff is always super friendly and helpful, which is especially cool when you bring two small boys and a baby!\\t1\\n\\nFour stars for the food & the guy in the blue shirt for his great vibe & still letting us in to eat !\\t1\\n\\nThe roast beef sandwich tasted really good!\\t1\\n\\nSame evening, him and I are both drastically sick.\\t0\\n\\nHigh-quality chicken on the chicken Caesar salad.\\t1\\n\\nOrdered burger rare came in we\\'ll done.\\t0\\n\\nWe were promptly greeted and seated.\\t1\\n\\nTried to go here for lunch and it was a madhouse.\\t0\\n\\nI was proven dead wrong by this sushi bar, not only because the quality is great, but the service is fast and the food, impeccable.\\t1\\n\\nAfter waiting an hour and being seated, I was not in the greatest of moods.\\t0\\n\\nThis is a good joint.\\t1\\n\\nThe Macarons here are insanely good.\\t1\\n\\nI\\'m not eating here!\\t0\\n\\nOur waiter was very attentive, friendly, and informative.\\t1\\n\\nMaybe if they weren\\'t cold they would have been somewhat edible.\\t0\\n\\nThis place has a lot of promise but fails to deliver.\\t0\\n\\nVery bad Experience!\\t0\\n\\nWhat a mistake.\\t0\\n\\nFood was average at best.\\t0\\n\\nGreat food.\\t1\\n\\nWe won\\'t be going back anytime soon!\\t0\\n\\nVery Very Disappointed ordered the $35 Big Bay Plater.\\t0\\n\\nGreat place to relax and have an awesome burger and beer.\\t1\\n\\nIt is PERFECT for a sit-down family meal or get together with a few friends.\\t1\\n\\nNot much flavor to them, and very poorly constructed.\\t0\\n\\nThe patio seating was very comfortable.\\t1\\n\\nThe fried rice was dry as well.\\t0\\n\\nHands down my favorite Italian restaurant!\\t1\\n\\nThat just SCREAMS \"LEGIT\" in my book...somethat\\'s also pretty rare here in Vegas.\\t1\\n\\nIt was just not a fun experience.\\t1\\n\\nThe atmosphere was great with a lovely duo of violinists playing songs we requested.\\t1\\n\\nI personally love the hummus, pita, baklava, falafels and Baba Ganoush (it\\'s amazing what they do with eggplant!).\\t1\\n\\nVery convenient, since we were staying at the MGM!\\t1\\n\\nThe owners are super friendly and the staff is courteous.\\t1\\n\\nBoth great!\\t1\\n\\nEclectic selection.\\t1\\n\\nThe sweet potato tots were good but the onion rings were perfection or as close as I have had.\\t1\\n\\nThe staff was very attentive.\\t1\\n\\nAnd the chef was generous with his time (even came around twice so we can take pictures with him).\\t1\\n\\nThe owner used to work at Nobu, so this place is really similar for half the price.\\t1\\n\\nGoogle mediocre and I imagine Smashburger will pop up.\\t0\\n\\ndont go here.\\t0\\n\\nI promise they won\\'t disappoint.\\t1\\n\\nAs a sushi lover avoid this place by all means.\\t0\\n\\nWhat a great double cheeseburger!\\t1\\n\\nAwesome service and food.\\t1\\n\\nA fantastic neighborhood gem !!!\\t1\\n\\nI can\\'t wait to go back.\\t1\\n\\nThe plantains were the worst I\\'ve ever tasted.\\t0\\n\\nIt\\'s a great place and I highly recommend it.\\t1\\n\\nService was slow and not attentive.\\t0\\n\\nI gave it 5 stars then, and I\\'m giving it 5 stars now.\\t1\\n\\nYour staff spends more time talking to themselves than me.\\t0\\n\\nDessert: Panna Cotta was amazing.\\t1\\n\\nVery good food, great atmosphere.1\\t1\\n\\nDamn good steak.\\t1\\n\\nTotal brunch fail.\\t0\\n\\nPrices are very reasonable, flavors are spot on, the sauce is home made, and the slaw is not drenched in mayo.\\t1\\n\\nThe decor is nice, and the piano music soundtrack is pleasant.\\t1\\n\\nThe steak was amazing...rge fillet relleno was the best seafood plate i have ever had!\\t1\\n\\nGood food , good service .\\t1\\n\\nIt was absolutely amazing.\\t1\\n\\nI probably won\\'t be back, to be honest.\\t0\\n\\nwill definitely be back!\\t1\\n\\nThe sergeant pepper beef sandwich with auju sauce is an excellent sandwich as well.\\t1\\n\\nHawaiian Breeze, Mango Magic, and Pineapple Delight are the smoothies that I\\'ve tried so far and they\\'re all good.\\t1\\n\\nWent for lunch - service was slow.\\t0\\n\\nWe had so much to say about the place before we walked in that he expected it to be amazing, but was quickly disappointed.\\t0\\n\\nI was mortified.\\t0\\n\\nNeedless to say, we will never be back here again.\\t0\\n\\nAnyways, The food was definitely not filling at all, and for the price you pay you should expect more.\\t0\\n\\nThe chips that came out were dripping with grease, and mostly not edible.\\t0\\n\\nI wasn\\'t really impressed with Strip Steak.\\t0\\n\\nHave been going since 2007 and every meal has been awesome!!\\t1\\n\\nOur server was very nice and attentive as were the other serving staff.\\t1\\n\\nThe cashier was friendly and even brought the food out to me.\\t1\\n\\nI work in the hospitality industry in Paradise Valley and have refrained from recommending Cibo any longer.\\t0\\n\\nThe atmosphere here is fun.\\t1\\n\\nWould not recommend to others.\\t0\\n\\nService is quick and even \"to go\" orders are just like we like it!\\t1\\n\\nI mean really, how do you get so famous for your fish and chips when it\\'s so terrible!?!\\t0\\n\\nThat said, our mouths and bellies were still quite pleased.\\t1\\n\\nNot my thing.\\t0\\n\\n2 Thumbs Up!!\\t1\\n\\nIf you are reading this please don\\'t go there.\\t0\\n\\nI loved the grilled pizza, reminded me of legit Italian pizza.\\t1\\n\\nOnly Pros : Large seating area/ Nice bar area/ Great simple drink menu/ The BEST brick oven pizza with homemade dough!\\t1\\n\\nThey have a really nice atmosphere.\\t1\\n\\nTonight I had the Elk Filet special...and it sucked.\\t0\\n\\nAfter one bite, I was hooked.\\t1\\n\\nWe ordered some old classics and some new dishes after going there a few times and were sorely disappointed with everything.\\t0\\n\\nCute, quaint, simple, honest.\\t1\\n\\nThe chicken was deliciously seasoned and had the perfect fry on the outside and moist chicken on the inside.\\t1\\n\\nThe food was great as always, compliments to the chef.\\t1\\n\\nSpecial thanks to Dylan T. for the recommendation on what to order :) All yummy for my tummy.\\t1\\n\\nAwesome selection of beer.\\t1\\n\\nGreat food and awesome service!\\t1\\n\\nOne nice thing was that they added gratuity on the bill since our party was larger than 6 or 8, and they didn\\'t expect more tip than that.\\t1\\n\\nA FLY was in my apple juice.. A FLY!!!!!!!!\\t0\\n\\nThe Han Nan Chicken was also very tasty.\\t1\\n\\nAs for the service, I thought it was good.\\t1\\n\\nThe food was barely lukewarm, so it must have been sitting waiting for the server to bring it out to us.\\t0\\n\\nRyan\\'s Bar is definitely one Edinburgh establishment I won\\'t be revisiting.\\t0\\n\\nNicest Chinese restaurant I\\'ve been in a while.\\t1\\n\\nOverall, I like there food and the service.\\t1\\n\\nThey also now serve Indian naan bread with hummus and some spicy pine nut sauce that was out of this world.\\t1\\n\\nProbably never coming back, and wouldn\\'t recommend it.\\t0\\n\\nFriend\\'s pasta -- also bad, he barely touched it.\\t0\\n\\nTry them in the airport to experience some tasty food and speedy, friendly service.\\t1\\n\\nI love the decor with the Chinese calligraphy wall paper.\\t1\\n\\nNever had anything to complain about here.\\t1\\n\\nThe restaurant is very clean and has a family restaurant feel to it.\\t1\\n\\nIt was way over fried.\\t0\\n\\nI\\'m not sure how long we stood there but it was long enough for me to begin to feel awkwardly out of place.\\t0\\n\\nWhen I opened the sandwich, I was impressed, but not in a good way.\\t0\\n\\nWill not be back!\\t0\\n\\nThere was a warm feeling with the service and I felt like their guest for a special treat.\\t1\\n\\nAn extensive menu provides lots of options for breakfast.\\t1\\n\\nI always order from the vegetarian menu during dinner, which has a wide array of options to choose from.\\t1\\n\\nI have watched their prices inflate, portions get smaller and management attitudes grow rapidly!\\t0\\n\\nWonderful lil tapas and the ambience made me feel all warm and fuzzy inside.\\t1\\n\\nI got to enjoy the seafood salad, with a fabulous vinegrette.\\t1\\n\\nThe wontons were thin, not thick and chewy, almost melt in your mouth.\\t1\\n\\nLevel 5 spicy was perfect, where spice didn\\'t over-whelm the soup.\\t1\\n\\nWe were sat right on time and our server from the get go was FANTASTIC!\\t1\\n\\nMain thing I didn\\'t enjoy is that the crowd is of older crowd, around mid 30s and up.\\t0\\n\\nWhen I\\'m on this side of town, this will definitely be a spot I\\'ll hit up again!\\t1\\n\\nI had to wait over 30 minutes to get my drink and longer to get 2 arepas.\\t0\\n\\nThis is a GREAT place to eat!\\t1\\n\\nThe jalapeno bacon is soooo good.\\t1\\n\\nThe service was poor and thats being nice.\\t0\\n\\nFood was good, service was good, Prices were good.\\t1\\n\\nThe place was not clean and the food oh so stale!\\t0\\n\\nThe chicken dishes are OK, the beef is like shoe leather.\\t0\\n\\nBut the service was beyond bad.\\t0\\n\\nI\\'m so happy to be here!!!\"\\t1\\n\\nTasted like dirt.\\t0\\n\\nOne of the few places in Phoenix that I would definately go back to again .\\t1\\n\\nThe block was amazing.\\t1\\n\\nIt\\'s close to my house, it\\'s low-key, non-fancy, affordable prices, good food.\\t1\\n\\n* Both the Hot & Sour & the Egg Flower Soups were absolutely 5 Stars!\\t1\\n\\nMy sashimi was poor quality being soggy and tasteless.\\t0\\n\\nGreat time - family dinner on a Sunday night.\\t1\\n\\nthe food is not tasty at all, not to say its \"real traditional Hunan style\".\\t0\\n\\nWhat did bother me, was the slow service.\\t0\\n\\nThe flair bartenders are absolutely amazing!\\t1\\n\\nTheir frozen margaritas are WAY too sugary for my taste.\\t0\\n\\nThese were so good we ordered them twice.\\t1\\n\\nSo in a nutshell: 1) The restaraunt smells like a combination of a dirty fish market and a sewer.\\t0\\n\\nMy girlfriend\\'s veal was very bad.\\t0\\n\\nUnfortunately, it was not good.\\t0\\n\\nI had a pretty satifying experience.\\t1\\n\\nJoin the club and get awesome offers via email.\\t1\\n\\nPerfect for someone (me) who only likes beer ice cold, or in this case, even colder.\\t1\\n\\nBland and flavorless is a good way of describing the barely tepid meat.\\t0\\n\\nThe chains, which I\\'m no fan of, beat this place easily.\\t0\\n\\nThe nachos are a MUST HAVE!\\t1\\n\\nWe will not be coming back.\\t0\\n\\nI don\\'t have very many words to say about this place, but it does everything pretty well.\\t1\\n\\nThe staff is super nice and very quick even with the crazy crowds of the downtown juries, lawyers, and court staff.\\t1\\n\\nGreat atmosphere, friendly and fast service.\\t1\\n\\nWhen I received my Pita it was huge it did have a lot of meat in it so thumbs up there.\\t1\\n\\nOnce your food arrives it\\'s meh.\\t0\\n\\nPaying $7.85 for a hot dog and fries that looks like it came out of a kid\\'s meal at the Wienerschnitzel is not my idea of a good meal.\\t0\\n\\nThe classic Maine Lobster Roll was fantastic.\\t1\\n\\nMy brother in law who works at the mall ate here same day, and guess what he was sick all night too.\\t0\\n\\nSo good I am going to have to review this place twice - once hereas a tribute to the place and once as a tribute to an event held here last night.\\t1\\n\\nThe chips and salsa were really good, the salsa was very fresh.\\t1\\n\\nThis place is great!!!!!!!!!!!!!!\\t1\\n\\nMediocre food.\\t0\\n\\nOnce you get inside you\\'ll be impressed with the place.\\t1\\n\\nI\\'m super pissd.\\t0\\n\\nAnd service was super friendly.\\t1\\n\\nWhy are these sad little vegetables so overcooked?\\t0\\n\\nThis place was such a nice surprise!\\t1\\n\\nThey were golden-crispy and delicious.\\t1\\n\\nI had high hopes for this place since the burgers are cooked over a charcoal grill, but unfortunately the taste fell flat, way flat.\\t0\\n\\nI could eat their bruschetta all day it is devine.\\t1\\n\\nNot a single employee came out to see if we were OK or even needed a water refill once they finally served us our food.\\t0\\n\\nLastly, the mozzarella sticks, they were the best thing we ordered.\\t1\\n\\nThe first time I ever came here I had an amazing experience, I still tell people how awesome the duck was.\\t1\\n\\nThe server was very negligent of our needs and made us feel very unwelcome... I would not suggest this place!\\t0\\n\\nThe service was terrible though.\\t0\\n\\nThis place is overpriced, not consistent with their boba, and it really is OVERPRICED!\\t0\\n\\nIt was packed!!\\t0\\n\\nI love this place.\\t1\\n\\nI can say that the desserts were yummy.\\t1\\n\\nThe food was terrible.\\t0\\n\\nThe seasonal fruit was fresh white peach puree.\\t1\\n\\nIt kept getting worse and worse so now I\\'m officially done.\\t0\\n\\nThis place should honestly be blown up.\\t0\\n\\nBut I definitely would not eat here again.\\t0\\n\\nDo not waste your money here!\\t0\\n\\nI love that they put their food in nice plastic containers as opposed to cramming it in little paper takeout boxes.\\t1\\n\\nThe crêpe was delicate and thin and moist.\\t1\\n\\nAwful service.\\t0\\n\\nWon\\'t ever go here again.\\t0\\n\\nFood quality has been horrible.\\t0\\n\\nFor that price I can think of a few place I would have much rather gone.\\t0\\n\\nThe service here is fair at best.\\t0\\n\\nI do love sushi, but I found Kabuki to be over-priced, over-hip and under-services.\\t0\\n\\nDo yourself a favor and stay away from this dish.\\t0\\n\\nVery poor service.\\t0\\n\\nNo one at the table thought the food was above average or worth the wait that we had for it.\\t0\\n\\nBest service and food ever, Maria our server was so good and friendly she made our day.\\t1\\n\\nThey were excellent.\\t1\\n\\nI paid the bill but did not tip because I felt the server did a terrible job.\\t0\\n\\nJust had lunch here and had a great experience.\\t1\\n\\nI have never had such bland food which surprised me considering the article we read focused so much on their spices and flavor.\\t0\\n\\nFood is way overpriced and portions are fucking small.\\t0\\n\\nI recently tried Caballero\\'s and I have been back every week since!\\t1\\n\\nfor 40 bucks a head, i really expect better food.\\t0\\n\\nThe food came out at a good pace.\\t1\\n\\nI ate there twice on my last visit, and especially enjoyed the salmon salad.\\t1\\n\\nI won\\'t be back.\\t0\\n\\nWe could not believe how dirty the oysters were!\\t0\\n\\nThis place deserves no stars.\\t0\\n\\nI would not recommend this place.\\t0\\n\\nIn fact I\\'m going to round up to 4 stars, just because she was so awesome.\\t1\\n\\nTo my disbelief, each dish qualified as the worst version of these foods I have ever tasted.\\t0\\n\\nBad day or not, I have a very low tolerance for rude customer service people, it is your job to be nice and polite, wash dishes otherwise!!\\t0\\n\\nthe potatoes were great and so was the biscuit.\\t1\\n\\nI probably would not go here again.\\t0\\n\\nSo flavorful and has just the perfect amount of heat.\\t1\\n\\nThe price is reasonable and the service is great.\\t1\\n\\nThe Wife hated her meal (coconut shrimp), and our friends really did not enjoy their meals, either.\\t0\\n\\nMy fella got the huevos rancheros and they didn\\'t look too appealing.\\t0\\n\\nWent in for happy hour, great list of wines.\\t1\\n\\nSome may say this buffet is pricey but I think you get what you pay for and this place you are getting quite a lot!\\t1\\n\\nI probably won\\'t be coming back here.\\t0\\n\\nWorst food/service I\\'ve had in a while.\\t0\\n\\nThis place is pretty good, nice little vibe in the restaurant.\\t1\\n\\nTalk about great customer service of course we will be back.\\t1\\n\\nHot dishes are not hot, cold dishes are close to room temp.I watched staff prepare food with BARE HANDS, no gloves.Everything is deep fried in oil.\\t0\\n\\nI love their fries and their beans.\\t1\\n\\nAlways a pleasure dealing with him.\\t1\\n\\nThey have a plethora of salads and sandwiches, and everything I\\'ve tried gets my seal of approval.\\t1\\n\\nThis place is awesome if you want something light and healthy during the summer.\\t1\\n\\nFor sushi on the Strip, this is the place to go.\\t1\\n\\nThe service was great, even the manager came and helped with our table.\\t1\\n\\nThe feel of the dining room was more college cooking course than high class dining and the service was slow at best.\\t0\\n\\nI started this review with two stars, but I\\'m editing it to give it only one.\\t0\\n\\nthis is the worst sushi i have ever eat besides Costco\\'s.\\t0\\n\\nAll in all an excellent restaurant highlighted by great service, a unique menu, and a beautiful setting.\\t1\\n\\nMy boyfriend and i sat at the bar and had a completely delightful experience.\\t1\\n\\nWeird vibe from owners.\\t0\\n\\nThere was hardly any meat.\\t0\\n\\nI\\'ve had better bagels from the grocery store.\\t0\\n\\nGo To Place for Gyros.\\t1\\n\\nI love the owner/chef, his one authentic Japanese cool dude!\\t1\\n\\nNow the burgers aren\\'t as good, the pizza which used to be amazing is doughy and flavorless.\\t0\\n\\nI found a six inch long piece of wire in my salsa.\\t0\\n\\nThe service was terrible, food was mediocre.\\t0\\n\\nWe definately enjoyed ourselves.\\t1\\n\\nI ordered Albondigas soup - which was just warm - and tasted like tomato soup with frozen meatballs.\\t0\\n\\nOn three different occasions I asked for well done or medium well, and all three times I got the bloodiest piece of meat on my plate.\\t0\\n\\nI had about two bites and refused to eat anymore.\\t0\\n\\nThe service was extremely slow.\\t0\\n\\nAfter 20 minutes wait, I got a table.\\t0\\n\\nSeriously killer hot chai latte.\\t1\\n\\nNo allergy warnings on the menu, and the waitress had absolutely no clue as to which meals did or did not contain peanuts.\\t0\\n\\nMy boyfriend tried the Mediterranean Chicken Salad and fell in love.\\t1\\n\\nTheir rotating beers on tap is also a highlight of this place.\\t1\\n\\nPricing is a bit of a concern at Mellow Mushroom.\\t0\\n\\nWorst Thai ever.\\t0\\n\\nIf you stay in Vegas you must get breakfast here at least once.\\t1\\n\\nI want to first say our server was great and we had perfect service.\\t1\\n\\nThe pizza selections are good.\\t1\\n\\nI had strawberry tea, which was good.\\t1\\n\\nHighly unprofessional and rude to a loyal patron!\\t0\\n\\nOverall, a great experience.\\t1\\n\\nSpend your money elsewhere.\\t0\\n\\nTheir regular toasted bread was equally satisfying with the occasional pats of butter... Mmmm...!\\t1\\n\\nThe Buffet at Bellagio was far from what I anticipated.\\t0\\n\\nAnd the drinks are WEAK, people!\\t0\\n\\n-My order was not correct.\\t0\\n\\nAlso, I feel like the chips are bought, not made in house.\\t0\\n\\nAfter the disappointing dinner we went elsewhere for dessert.\\t0\\n\\nThe chips and sals a here is amazing!!!!!!!!!!!!!!!!!!!\\t1\\n\\nWe won\\'t be returning.\\t0\\n\\nThis is my new fav Vegas buffet spot.\\t1\\n\\nI seriously cannot believe that the owner has so many unexperienced employees that all are running around like chickens with their heads cut off.\\t0\\n\\nVery, very sad.\\t0\\n\\ni felt insulted and disrespected, how could you talk and judge another human being like that?\\t0\\n\\nHow can you call yourself a steakhouse if you can\\'t properly cook a steak, I don\\'t understand!\\t0\\n\\nI\\'m not impressed with the concept or the food.\\t0\\n\\nThe only thing I wasn\\'t too crazy about was their guacamole as I don\\'t like it puréed.\\t0\\n\\nThere is really nothing for me at postinos, hope your experience is better\\t0\\n\\nI got food poisoning here at the buffet.\\t0\\n\\nThey brought a fresh batch of fries and I was thinking yay something warm but no!\\t0\\n\\nWhat SHOULD have been a hilarious, yummy Christmas Eve dinner to remember was the biggest fail of the entire trip for us.\\t0\\n\\nNeedless to say, I won\\'t be going back anytime soon.\\t0\\n\\nThis place is disgusting!\\t0\\n\\nEvery time I eat here, I see caring teamwork to a professional degree.\\t1\\n\\nThe RI style calamari was a joke.\\t0\\n\\nHowever, there was so much garlic in the fondue, it was barely edible.\\t0\\n\\nI could barely stomach the meal, but didn\\'t complain because it was a business lunch.\\t0\\n\\nIt was so bad, I had lost the heart to finish it.\\t0\\n\\nIt also took her forever to bring us the check when we asked for it.\\t0\\n\\nWe aren\\'t ones to make a scene at restaurants but I just don\\'t get it...definitely lost the love after this one!\\t0\\n\\nDisappointing experience.\\t0\\n\\nThe food is about on par with Denny\\'s, which is to say, not good at all.\\t0\\n\\nIf you want to wait for mediocre food and downright terrible service, then this is the place for you.\\t0\\n\\nWAAAAAAyyyyyyyyyy over rated is all I am saying.\\t0\\n\\nWe won\\'t be going back.\\t0\\n\\nThe place was fairly clean but the food simply wasn\\'t worth it.\\t0\\n\\nThis place lacked style!!\\t0\\n\\nThe sangria was about half of a glass wine full and was $12, ridiculous.\\t0\\n\\nDon\\'t bother coming here.\\t0\\n\\nThe meat was pretty dry, I had the sliced brisket and pulled pork.\\t0\\n\\nThe building itself seems pretty neat, the bathroom is pretty trippy, but I wouldn\\'t eat here again.\\t0\\n\\nIt was equally awful.\\t0\\n\\nProbably not in a hurry to go back.\\t0\\n\\nvery slow at seating even with reservation.\\t0\\n\\nNot good by any stretch of the imagination.\\t0\\n\\nThe cashew cream sauce was bland and the vegetables were undercooked.\\t0\\n\\nThe chipolte ranch dipping sause was tasteless, seemed thin and watered down with no heat.\\t0\\n\\nIt was a bit too sweet, not really spicy enough, and lacked flavor.\\t0\\n\\nI was VERY disappointed!!\\t0\\n\\nThis place is horrible and way overpriced.\\t0\\n\\nMaybe it\\'s just their Vegetarian fare, but I\\'ve been twice and I thought it was average at best.\\t0\\n\\nIt wasn\\'t busy at all and now we know why.\\t0\\n\\nThe tables outside are also dirty a lot of the time and the workers are not always friendly and helpful with the menu.\\t0\\n\\nThe ambiance here did not feel like a buffet setting, but more of a douchey indoor garden for tea and biscuits.\\t0\\n\\nCon: spotty service.\\t0\\n\\nThe fries were not hot, and neither was my burger.\\t0\\n\\nBut then they came back cold.\\t0\\n\\nThen our food came out, disappointment ensued.\\t0\\n\\nThe real disappointment was our waiter.\\t0\\n\\nMy husband said she was very rude... did not even apologize for the bad food or anything.\\t0\\n\\nThe only reason to eat here would be to fill up before a night of binge drinking just to get some carbs in your stomach.\\t0\\n\\nInsults, profound deuchebaggery, and had to go outside for a smoke break while serving just to solidify it.\\t0\\n\\nIf someone orders two tacos don\\'t\\' you think it may be part of customer service to ask if it is combo or ala cart?\\t0\\n\\nShe was quite disappointed although some blame needs to be placed at her door.\\t0\\n\\nAfter all the rave reviews I couldn\\'t wait to eat here......what a disappointment!\\t0\\n\\nDel Taco is pretty nasty and should be avoided if possible.\\t0\\n\\nIt\\'s NOT hard to make a decent hamburger.\\t0\\n\\nBut I don\\'t like it.\\t0\\n\\nHell no will I go back\\t0\\n\\nWe\\'ve have gotten a much better service from the pizza place next door than the services we received from this restaurant.\\t0\\n\\nI don\\'t know what the big deal is about this place, but I won\\'t be back \"ya\\'all\".\\t0\\n\\nI immediately said I wanted to talk to the manager but I did not want to talk to the guy who was doing shots of fireball behind the bar.\\t0\\n\\nThe ambiance isn\\'t much better.\\t0\\n\\nUnfortunately, it only set us up for disapppointment with our entrees.\\t0\\n\\nThe food wasn\\'t good.\\t0\\n\\nYour servers suck, wait, correction, our server Heimer sucked.\\t0\\n\\nWhat happened next was pretty....off putting.\\t0\\n\\ntoo bad cause I know it\\'s family owned, I really wanted to like this place.\\t0\\n\\nOverpriced for what you are getting.\\t0\\n\\nI vomited in the bathroom mid lunch.\\t0\\n\\nI kept looking at the time and it had soon become 35 minutes, yet still no food.\\t0\\n\\nI have been to very few places to eat that under no circumstances would I ever return to, and this tops the list.\\t0\\n\\nWe started with the tuna sashimi which was brownish in color and obviously wasn\\'t fresh.\\t0\\n\\nFood was below average.\\t0\\n\\nIt sure does beat the nachos at the movies but I would expect a little bit more coming from a restaurant.\\t0\\n\\nAll in all, Ha Long Bay was a bit of a flop.\\t0\\n\\nThe problem I have is that they charge $11.99 for a sandwich that is no bigger than a Subway sub (which offers better and more amount of vegetables).\\t0\\n\\nShrimp- When I unwrapped it (I live only 1/2 a mile from Brushfire) it was literally ice cold.\\t0\\n\\nIt lacked flavor, seemed undercooked, and dry.\\t0\\n\\nIt really is impressive that the place hasn\\'t closed down.\\t0\\n\\nI would avoid this place if you are staying in the Mirage.\\t0\\n\\nThe refried beans that came with my meal were dried out and crusty and the food was bland.\\t0\\n\\nSpend your money and time some place else.\\t0\\n\\nA lady at the table next to us found a live green caterpillar In her salad.\\t0\\n\\nthe presentation of the food was awful.\\t0\\n\\nI can\\'t tell you how disappointed I was.\\t0\\n\\nI think food should have flavor and texture and both were lacking.\\t0\\n\\nAppetite instantly gone.\\t0\\n\\nOverall I was not impressed and would not go back.\\t0\\n\\nThe whole experience was underwhelming, and I think we\\'ll just go to Ninja Sushi next time.\\t0\\n\\nThen, as if I hadn\\'t wasted enough of my life there, they poured salt in the wound by drawing out the time it took to bring the check.\\t0'"
      ]
     },
     "execution_count": 9,
     "metadata": {},
     "output_type": "execute_result"
    }
   ],
   "source": [
    "## Comprobamos que la información ha sido cargada\n",
    "data[0].page_content"
   ]
  },
  {
   "cell_type": "markdown",
   "metadata": {},
   "source": [
    "## LangChain\n",
    "\n",
    "- RecursiveCharacterTextSplitter: Este separador de texto toma una lista de caracteres y trata de crear fragmentos basándose en la división del primer carácter"
   ]
  },
  {
   "cell_type": "code",
   "execution_count": 10,
   "metadata": {},
   "outputs": [],
   "source": [
    "text_splitter = RecursiveCharacterTextSplitter(\n",
    "    chunk_size = 1000,\n",
    "    chunk_overlap=100,\n",
    "    length_function=len\n",
    ")\n",
    "\n",
    "documents = text_splitter.split_documents(data)"
   ]
  },
  {
   "cell_type": "code",
   "execution_count": 11,
   "metadata": {},
   "outputs": [
    {
     "data": {
      "text/plain": [
       "69"
      ]
     },
     "execution_count": 11,
     "metadata": {},
     "output_type": "execute_result"
    }
   ],
   "source": [
    "len(documents)"
   ]
  },
  {
   "cell_type": "code",
   "execution_count": 12,
   "metadata": {},
   "outputs": [
    {
     "data": {
      "text/plain": [
       "Document(page_content=\"I had the mac salad and it was pretty bland so I will not be getting that again.\\t0\\n\\nI went to Bachi Burger on a friend's recommendation and was not disappointed.\\t1\\n\\nService stinks here!\\t0\\n\\nI waited and waited.\\t0\\n\\nThis place is not quality sushi, it is not a quality restaurant.\\t0\\n\\nI would definitely recommend the wings as well as the pizza.\\t1\\n\\nGreat Pizza and Salads!\\t1\\n\\nThings that went wrong: - They burned the saganaki.\\t0\\n\\nWe waited an hour for what was a breakfast I could have done 100 times better at home.\\t0\\n\\nThis place is amazing!\\t1\\n\\nI hate to disagree with my fellow Yelpers, but my husband and I were so disappointed with this place.\\t0\\n\\nWaited 2 hours & never got either of our pizzas as many other around us who came in later did!\\t0\\n\\nJust don't know why they were so slow.\\t0\\n\\nThe staff is great, the food is delish, and they have an incredible beer selection.\\t1\\n\\nI live in the neighborhood so I am disappointed I won't be back here, because it is a convenient location.\\t0\", metadata={'source': './ReviewRestaurants.docx'})"
      ]
     },
     "execution_count": 12,
     "metadata": {},
     "output_type": "execute_result"
    }
   ],
   "source": [
    "documents[20]"
   ]
  },
  {
   "cell_type": "markdown",
   "metadata": {},
   "source": [
    "## APi OpenAI"
   ]
  },
  {
   "cell_type": "code",
   "execution_count": 16,
   "metadata": {},
   "outputs": [],
   "source": [
    "OPENAI_API_KEY=\"\"\n",
    "os.environ[\"OPENAI_API_KEY\"] = OPENAI_API_KEY\n"
   ]
  },
  {
   "cell_type": "code",
   "execution_count": 19,
   "metadata": {},
   "outputs": [],
   "source": [
    "vectorstore = Chroma.from_documents(documents=documents, embedding=OpenAIEmbeddings())"
   ]
  },
  {
   "cell_type": "markdown",
   "metadata": {},
   "source": [
    "## LLM"
   ]
  },
  {
   "cell_type": "markdown",
   "metadata": {},
   "source": [
    "##"
   ]
  },
  {
   "cell_type": "code",
   "execution_count": 43,
   "metadata": {},
   "outputs": [
    {
     "data": {
      "text/plain": [
       "4"
      ]
     },
     "execution_count": 43,
     "metadata": {},
     "output_type": "execute_result"
    }
   ],
   "source": [
    "## Question\n",
    "question = \"what are the main reviews?\"\n",
    "docs = vectorstore.similarity_search(question)\n",
    "len(docs)"
   ]
  },
  {
   "cell_type": "markdown",
   "metadata": {},
   "source": [
    "## MultiQueryRetriever \n",
    "\n",
    "Automatiza el proceso de ajuste de consultas utilizando un LLM para generar múltiples consultas desde"
   ]
  },
  {
   "cell_type": "code",
   "execution_count": 42,
   "metadata": {},
   "outputs": [
    {
     "name": "stderr",
     "output_type": "stream",
     "text": [
      "INFO:langchain.retrievers.multi_query:Generated queries: ['1. Can you provide me with the primary reviews?', '2. What are the key reviews?', '3. Could you share the major reviews?']\n"
     ]
    },
    {
     "data": {
      "text/plain": [
       "8"
      ]
     },
     "execution_count": 42,
     "metadata": {},
     "output_type": "execute_result"
    }
   ],
   "source": [
    "\n",
    "from langchain.chat_models import ChatOpenAI\n",
    "from langchain.retrievers.multi_query import MultiQueryRetriever\n",
    "\n",
    "logging.basicConfig()\n",
    "logging.getLogger('langchain.retrievers.multi_query').setLevel(logging.INFO)\n",
    "\n",
    "retriever_from_llm = MultiQueryRetriever.from_llm(retriever=vectorstore.as_retriever(),\n",
    "                                                  llm=ChatOpenAI(temperature=0))\n",
    "unique_docs = retriever_from_llm.get_relevant_documents(query=question)\n",
    "len(unique_docs)"
   ]
  },
  {
   "cell_type": "markdown",
   "metadata": {},
   "source": [
    "## Generación de texto"
   ]
  },
  {
   "cell_type": "code",
   "execution_count": 32,
   "metadata": {},
   "outputs": [
    {
     "data": {
      "text/plain": [
       "{'query': 'what are the main reviews?',\n",
       " 'result': 'The main reviews are positive.'}"
      ]
     },
     "execution_count": 32,
     "metadata": {},
     "output_type": "execute_result"
    }
   ],
   "source": [
    "from langchain.chains import RetrievalQA\n",
    "from langchain.chat_models import ChatOpenAI\n",
    "\n",
    "llm = ChatOpenAI(model_name=\"gpt-3.5-turbo\", temperature=0)\n",
    "qa_chain = RetrievalQA.from_chain_type(llm,retriever=vectorstore.as_retriever())\n",
    "qa_chain({\"query\": question})"
   ]
  },
  {
   "cell_type": "code",
   "execution_count": 33,
   "metadata": {},
   "outputs": [
    {
     "data": {
      "text/plain": [
       "{'output_text': 'The main reviews are positive.'}"
      ]
     },
     "execution_count": 33,
     "metadata": {},
     "output_type": "execute_result"
    }
   ],
   "source": [
    "from langchain.chains.question_answering import load_qa_chain\n",
    "\n",
    "chain = load_qa_chain(llm, chain_type=\"stuff\")\n",
    "chain({\"input_documents\": unique_docs, \"question\": question},return_only_outputs=True)"
   ]
  },
  {
   "cell_type": "markdown",
   "metadata": {},
   "source": [
    "## Multiples querys"
   ]
  },
  {
   "cell_type": "code",
   "execution_count": 47,
   "metadata": {},
   "outputs": [],
   "source": [
    "from langchain.memory import ConversationBufferMemory\n",
    "\n",
    "memory = ConversationBufferMemory(memory_key=\"chat_history\", return_messages=True)"
   ]
  },
  {
   "cell_type": "code",
   "execution_count": 35,
   "metadata": {},
   "outputs": [],
   "source": [
    "from langchain.chains import ConversationalRetrievalChain\n",
    "\n",
    "retriever = vectorstore.as_retriever()\n",
    "chat = ConversationalRetrievalChain.from_llm(llm, retriever=retriever, memory=memory)"
   ]
  },
  {
   "cell_type": "markdown",
   "metadata": {},
   "source": [
    "Mas preguntas"
   ]
  },
  {
   "cell_type": "code",
   "execution_count": 36,
   "metadata": {},
   "outputs": [
    {
     "data": {
      "text/plain": [
       "'The main complaints are about management attitudes, slow service, poor quality food, bad service, dirty restaurant, and generic food.'"
      ]
     },
     "execution_count": 36,
     "metadata": {},
     "output_type": "execute_result"
    }
   ],
   "source": [
    "result = chat({\"question\": \"what are the main complaints?\"})\n",
    "result['answer']"
   ]
  },
  {
   "cell_type": "code",
   "execution_count": 37,
   "metadata": {},
   "outputs": [
    {
     "data": {
      "text/plain": [
       "\"- The staff is always super friendly and helpful, which is especially cool when you bring two small boys and a baby!\\n- Four stars for the food & the guy in the blue shirt for his great vibe & still letting us in to eat!\\n- The roast beef sandwich tasted really good!\\n- High-quality chicken on the chicken Caesar salad.\\n- We were promptly greeted and seated.\\n- This is a good joint.\\n- The Macarons here are insanely good.\\n- Our waiter was very attentive, friendly, and informative.\\n- Both of the egg rolls were fantastic.\\n- I had a salad with the wings, and some ice cream for dessert and left feeling quite satisfied.\\n- The best place to go for a tasty bowl of Pho!\\n- Very friendly staff.\\n- It is worth the drive.\\n- I had heard good things about this place, but it exceeding every hope I could have dreamed of.\\n- Food was great and so was the service!\\n- Great brunch spot.\\n- Service is friendly and inviting.\\n- Very good lunch spot.\\n- Only Pros : Large seating area/ Nice bar area/ Great simple drink menu/ The BEST brick oven pizza with homemade dough!\\n- Cute, quaint, simple, honest.\\n- The chicken was deliciously seasoned and had the perfect fry on the outside and moist chicken on the inside.\\n- The food was great as always, compliments to the chef.\\n- I gave it 5 stars then, and I'm giving it 5 stars now.\\n- Dessert: Panna Cotta was amazing.\\n- Very good food, great atmosphere.\\n- Damn good steak.\\n- Prices are very reasonable, flavors are spot on, the sauce is homemade, and the slaw is not drenched in mayo.\\n- The decor is nice, and the piano music soundtrack is pleasant.\\n- The steak was amazing...the fillet relleno was the best seafood plate I have ever had!\\n- Good food, good service.\\n- It was absolutely amazing.\\n- Will definitely be back!\\n- The sergeant pepper beef sandwich with auju sauce is an excellent sandwich as well.\\n- Hawaiian Breeze, Mango Magic, and Pineapple Delight are the smoothies that I've tried so far and they're all good.\""
      ]
     },
     "execution_count": 37,
     "metadata": {},
     "output_type": "execute_result"
    }
   ],
   "source": [
    "result = chat({\"question\": \"what are the best reviews?\"})\n",
    "result['answer']"
   ]
  },
  {
   "cell_type": "code",
   "execution_count": 44,
   "metadata": {},
   "outputs": [
    {
     "data": {
      "text/plain": [
       "'There are 26 good reviews.'"
      ]
     },
     "execution_count": 44,
     "metadata": {},
     "output_type": "execute_result"
    }
   ],
   "source": [
    "result = chat({\"question\": \"How many good reviews there are?\"})\n",
    "result['answer']"
   ]
  },
  {
   "cell_type": "code",
   "execution_count": 50,
   "metadata": {},
   "outputs": [
    {
     "data": {
      "text/plain": [
       "'The worst review is \"This place is disgusting!\"'"
      ]
     },
     "execution_count": 50,
     "metadata": {},
     "output_type": "execute_result"
    }
   ],
   "source": [
    "result = chat({\"question\": \"which is the worst review?\"})\n",
    "result['answer']"
   ]
  },
  {
   "cell_type": "code",
   "execution_count": 49,
   "metadata": {},
   "outputs": [],
   "source": [
    "## podemos realizar mas preguntas al modelo con la siguiente estructura:\n",
    "# result = chat({\"question\": \"Query\"})\n",
    "# result['answer']"
   ]
  }
 ],
 "metadata": {
  "kernelspec": {
   "display_name": "pyllm",
   "language": "python",
   "name": "python3"
  },
  "language_info": {
   "codemirror_mode": {
    "name": "ipython",
    "version": 3
   },
   "file_extension": ".py",
   "mimetype": "text/x-python",
   "name": "python",
   "nbconvert_exporter": "python",
   "pygments_lexer": "ipython3",
   "version": "3.11.4"
  },
  "orig_nbformat": 4
 },
 "nbformat": 4,
 "nbformat_minor": 2
}
